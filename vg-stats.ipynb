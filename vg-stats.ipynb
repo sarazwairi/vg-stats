{
 "cells": [
  {
   "cell_type": "markdown",
   "source": [
    "#  Data Analysis with Pandas\n",
    "## Video Game Sales\n",
    "## By Sara Zwairi\n",
    "## 9th of aug 2021"
   ],
   "metadata": {}
  },
  {
   "cell_type": "code",
   "execution_count": null,
   "source": [
    "import pandas as pd"
   ],
   "outputs": [],
   "metadata": {}
  },
  {
   "cell_type": "code",
   "execution_count": null,
   "source": [
    "df = pd.read_csv(\"vg-stats/vgsales.csv\")\n",
    "df.head()"
   ],
   "outputs": [],
   "metadata": {}
  },
  {
   "cell_type": "markdown",
   "source": [
    "### Which company is the most common video game publisher?\n"
   ],
   "metadata": {}
  },
  {
   "cell_type": "code",
   "execution_count": null,
   "source": [
    "most_common_publisher=df[\"Publisher\"].value_counts().idxmax()\n",
    "most_common_publisher"
   ],
   "outputs": [],
   "metadata": {}
  },
  {
   "cell_type": "markdown",
   "source": [
    "### What’s the most common platform?"
   ],
   "metadata": {}
  },
  {
   "cell_type": "code",
   "execution_count": null,
   "source": [
    "most_common_platform=df[\"Platform\"].value_counts().idxmax()\n",
    "most_common_platform"
   ],
   "outputs": [],
   "metadata": {}
  },
  {
   "cell_type": "markdown",
   "source": [
    "### What about the most common genre?\n"
   ],
   "metadata": {}
  },
  {
   "cell_type": "code",
   "execution_count": null,
   "source": [
    "most_common_genre=df[\"Genre\"].value_counts().idxmax()\n",
    "most_common_genre"
   ],
   "outputs": [],
   "metadata": {}
  },
  {
   "cell_type": "markdown",
   "source": [
    "### What are the top 20 highest grossing games?"
   ],
   "metadata": {}
  },
  {
   "cell_type": "code",
   "execution_count": null,
   "source": [
    "top_twenty_highest_grossing_games=df[[\"Name\",\"Global_Sales\"]].sort_values(\"Global_Sales\",ascending=False)\n",
    "top_twenty_highest_grossing_games.head(20)"
   ],
   "outputs": [],
   "metadata": {}
  },
  {
   "cell_type": "markdown",
   "source": [
    "### For North American video game sales, what’s the median? "
   ],
   "metadata": {}
  },
  {
   "cell_type": "code",
   "execution_count": null,
   "source": [
    "na_median_sales=df[\"NA_Sales\"].median()\n",
    "na_median_sales"
   ],
   "outputs": [],
   "metadata": {}
  },
  {
   "cell_type": "markdown",
   "source": [
    "### * Provide a secondary output showing ten games surrounding the median sales output\n",
    "\n",
    "### * assume that games with same median value are sorted in descending order\n"
   ],
   "metadata": {}
  },
  {
   "cell_type": "code",
   "execution_count": null,
   "source": [
    "north_american_ten_vg_sales_median=df[df[\"NA_Sales\"]==na_median_sales]\n",
    "north_american_ten_vg_sales_median[[\"Rank\",\"Name\",\"Platform\"]].sort_values(\"Rank\",ascending=False).head(10)"
   ],
   "outputs": [],
   "metadata": {}
  },
  {
   "cell_type": "markdown",
   "source": [
    "### For the top-selling game of all time, how many standard deviations above/below the mean are its sales for North America?"
   ],
   "metadata": {}
  },
  {
   "cell_type": "code",
   "execution_count": null,
   "source": [
    "standard_deviations=(df[\"NA_Sales\"].head(1)-df[\"NA_Sales\"].mean())/df[\"NA_Sales\"].std()\n",
    "standard_deviations"
   ],
   "outputs": [],
   "metadata": {}
  },
  {
   "cell_type": "code",
   "execution_count": null,
   "source": [
    "# above=df[df[\"NA_Sales\"]>standard_deviations][[\"Name\",\"NA_Sales\"]]\n",
    "# above"
   ],
   "outputs": [],
   "metadata": {}
  },
  {
   "cell_type": "code",
   "execution_count": null,
   "source": [
    "# bellow=df[df[\"NA_Sales\"]<standard_deviations][[\"Name\",\"NA_Sales\"]]\n",
    "# bellow"
   ],
   "outputs": [],
   "metadata": {}
  },
  {
   "cell_type": "markdown",
   "source": [
    "### The Nintendo Wii seems to have outdone itself with games. How does its average number of sales compare with all of the other platforms?"
   ],
   "metadata": {}
  },
  {
   "cell_type": "code",
   "execution_count": null,
   "source": [
    "#wii avg\n",
    "wii_avg_global_sales=df[df[\"Platform\"]==\"Wii\"][\"Global_Sales\"].mean()\n",
    "print(wii_avg_global_sales)\n",
    "\n",
    "#other platforms\n",
    "others_avg_global_sales_without_wii=df[df[\"Platform\"]!=\"Wii\"][\"Global_Sales\"].mean()\n",
    "others_avg_global_sales_without_wii"
   ],
   "outputs": [],
   "metadata": {}
  },
  {
   "cell_type": "markdown",
   "source": [
    "### Come up with 3 more questions that can be answered with this data set."
   ],
   "metadata": {}
  },
  {
   "cell_type": "markdown",
   "source": [
    "### year of highest global sales of vg"
   ],
   "metadata": {}
  },
  {
   "cell_type": "code",
   "execution_count": null,
   "source": [
    "highest_year =df.groupby([\"Year\"])[\"Global_Sales\"].sum().idxmax()\n",
    "highest_year"
   ],
   "outputs": [],
   "metadata": {}
  },
  {
   "cell_type": "markdown",
   "source": [
    "### how many was the higest global sales?"
   ],
   "metadata": {}
  },
  {
   "cell_type": "code",
   "execution_count": null,
   "source": [
    "highest_sales = df[df[\"Year\"]==highest_year][\"Global_Sales\"].sum()\n",
    "highest_sales"
   ],
   "outputs": [],
   "metadata": {}
  },
  {
   "cell_type": "markdown",
   "source": [
    "### sports vg only"
   ],
   "metadata": {}
  },
  {
   "cell_type": "code",
   "execution_count": null,
   "source": [
    "sports_vg=df[df[\"Genre\"]==\"Sports\"].head(10)\n",
    "sports_vg"
   ],
   "outputs": [],
   "metadata": {}
  },
  {
   "cell_type": "code",
   "execution_count": null,
   "source": [
    "def test():\n",
    "\n",
    "    def assert_equal(actual,expected):\n",
    "        assert actual == expected, f\"Expected {expected} but got {actual}\"\n",
    "\n",
    "    assert_equal(most_common_publisher, \"Electronic Arts\")\n",
    "    assert_equal(most_common_platform, \"DS\")\n",
    "    assert_equal(most_common_genre, \"Action\")\n",
    "    assert_equal(top_twenty_highest_grossing_games.iloc[0].Name, \"Wii Sports\")\n",
    "    assert_equal(top_twenty_highest_grossing_games.iloc[19].Name, \"Brain Age: Train Your Brain in Minutes a Day\")\n",
    "    assert_equal(na_median_sales, 0.08)\n",
    "\n",
    "    print(\"Success!!!\")\n",
    "\n",
    "test()"
   ],
   "outputs": [],
   "metadata": {}
  }
 ],
 "metadata": {
  "interpreter": {
   "hash": "ec721bf67ea6a3f4732e0b0592098dbadb0f971fe1afc51370554f284f6acd23"
  },
  "kernelspec": {
   "name": "python3",
   "display_name": "Python 3.9.6 64-bit ('.venv': poetry)"
  },
  "language_info": {
   "codemirror_mode": {
    "name": "ipython",
    "version": 3
   },
   "file_extension": ".py",
   "mimetype": "text/x-python",
   "name": "python",
   "nbconvert_exporter": "python",
   "pygments_lexer": "ipython3",
   "version": "3.9.6"
  }
 },
 "nbformat": 4,
 "nbformat_minor": 4
}